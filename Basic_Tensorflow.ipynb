{
  "nbformat": 4,
  "nbformat_minor": 0,
  "metadata": {
    "colab": {
      "provenance": [],
      "authorship_tag": "ABX9TyOQMbZr3cfucOWsDEuzi2qp",
      "include_colab_link": true
    },
    "kernelspec": {
      "name": "python3",
      "display_name": "Python 3"
    },
    "language_info": {
      "name": "python"
    }
  },
  "cells": [
    {
      "cell_type": "markdown",
      "metadata": {
        "id": "view-in-github",
        "colab_type": "text"
      },
      "source": [
        "<a href=\"https://colab.research.google.com/github/Ninja7328/ML-Practicing/blob/main/Basic_Tensorflow.ipynb\" target=\"_parent\"><img src=\"https://colab.research.google.com/assets/colab-badge.svg\" alt=\"Open In Colab\"/></a>"
      ]
    },
    {
      "cell_type": "code",
      "execution_count": 1,
      "metadata": {
        "id": "yUcDpv_ZVAUO"
      },
      "outputs": [],
      "source": [
        "import tensorflow as tf"
      ]
    },
    {
      "cell_type": "code",
      "source": [
        "# Constants\n",
        "a = tf.constant(2)\n",
        "b = tf.constant(3)\n",
        "c = a + b\n",
        "\n",
        "result = c.numpy()\n",
        "print(result)\n",
        "\n",
        "a1 = tf.constant([[3,3]])\n",
        "b1 = tf.constant([[3],[3]])\n",
        "c1 = tf.matmul(a1,b1)\n",
        "c1.numpy()\n"
      ],
      "metadata": {
        "colab": {
          "base_uri": "https://localhost:8080/"
        },
        "id": "tJSzS_jcXo8Y",
        "outputId": "957008f5-270c-4269-de62-c62f1b8f378b"
      },
      "execution_count": 11,
      "outputs": [
        {
          "output_type": "stream",
          "name": "stdout",
          "text": [
            "5\n"
          ]
        },
        {
          "output_type": "execute_result",
          "data": {
            "text/plain": [
              "array([[18]], dtype=int32)"
            ]
          },
          "metadata": {},
          "execution_count": 11
        }
      ]
    },
    {
      "cell_type": "code",
      "source": [
        "# Variables\n",
        "var1 = tf.Variable(200)\n",
        "var2 = tf.Variable(199)\n",
        "sum = tf.add(var1, var2)\n",
        "print(sum.numpy())\n",
        "\n",
        "assign = var1.assign(299)\n",
        "assign.numpy()\n",
        "sum1 = tf.add(var1, var2)\n",
        "print(sum1.numpy())\n",
        "\n"
      ],
      "metadata": {
        "colab": {
          "base_uri": "https://localhost:8080/"
        },
        "id": "ijLrk9sxX24J",
        "outputId": "0d094a06-67cb-4105-c684-a0f5889e6759"
      },
      "execution_count": 20,
      "outputs": [
        {
          "output_type": "stream",
          "name": "stdout",
          "text": [
            "399\n",
            "498\n"
          ]
        }
      ]
    },
    {
      "cell_type": "code",
      "source": [],
      "metadata": {
        "id": "_ciCrdepYe0i"
      },
      "execution_count": null,
      "outputs": []
    }
  ]
}