{
  "nbformat": 4,
  "nbformat_minor": 0,
  "metadata": {
    "colab": {
      "provenance": [],
      "authorship_tag": "ABX9TyNlmYestUVnP75QbhbnV5zL",
      "include_colab_link": true
    },
    "kernelspec": {
      "name": "python3",
      "display_name": "Python 3"
    },
    "language_info": {
      "name": "python"
    }
  },
  "cells": [
    {
      "cell_type": "markdown",
      "metadata": {
        "id": "view-in-github",
        "colab_type": "text"
      },
      "source": [
        "<a href=\"https://colab.research.google.com/github/Ninja7328/ML-Practicing/blob/main/Stacked_LSTM.ipynb\" target=\"_parent\"><img src=\"https://colab.research.google.com/assets/colab-badge.svg\" alt=\"Open In Colab\"/></a>"
      ]
    },
    {
      "cell_type": "code",
      "execution_count": 1,
      "metadata": {
        "id": "cW_5CEuPVgDH"
      },
      "outputs": [],
      "source": [
        "import tensorflow as tf\n",
        "from tensorflow.keras.datasets import imdb\n",
        "from tensorflow.keras.models import Sequential\n",
        "from tensorflow.keras.layers import LSTM, Dense, Embedding, SpatialDropout1D"
      ]
    },
    {
      "cell_type": "code",
      "source": [
        "# Parameters\n",
        "max_features  = 20000     # Maximum number of words to consider as features\n",
        "maxlen = 100              # Maximum length of each sequence\n",
        "embedding_dim = 128       # Dimension of word embeddings\n",
        "num_lstm_layers = 2       #Number of LSTM layers\n",
        "num_lstm_units = 64       # Number of LSTM units in each layer\n",
        "\n",
        "# Load adn preprocess the IMDB dataset\n",
        "(x_train, y_train), (x_test, y_test) = imdb.load_data(num_words = max_features)\n",
        "x_train = tf.keras.preprocessing.sequence.pad_sequences(x_train, maxlen=maxlen)\n",
        "x_test = tf.keras.preprocessing.sequence.pad_sequences(x_test, maxlen=maxlen)"
      ],
      "metadata": {
        "colab": {
          "base_uri": "https://localhost:8080/"
        },
        "id": "7TAeFwtiV6Ix",
        "outputId": "034557a2-0d92-4c49-f704-9a8870483c6f"
      },
      "execution_count": 2,
      "outputs": [
        {
          "output_type": "stream",
          "name": "stdout",
          "text": [
            "Downloading data from https://storage.googleapis.com/tensorflow/tf-keras-datasets/imdb.npz\n",
            "17464789/17464789 [==============================] - 0s 0us/step\n"
          ]
        }
      ]
    },
    {
      "cell_type": "code",
      "source": [
        "# Define the model\n",
        "model = Sequential()\n",
        "\n",
        "# Add embedding layer\n",
        "model.add(Embedding(max_features, embedding_dim, input_length=maxlen))\n",
        "model.add(SpatialDropout1D(0.2))\n",
        "\n",
        "# Add Stacked LSTM layers\n",
        "for i in range(num_lstm_layers):\n",
        "  if i == 0:\n",
        "    # First layer needs input shape\n",
        "    model.add(LSTM(num_lstm_units, dropout=0.2, recurrent_dropout=0.2, return_sequences=True))\n",
        "  elif i == num_lstm_layers - 1:\n",
        "    # Last layers doesn't return sequences\n",
        "    model.add(LSTM(num_lstm_units, dropout=0.2, recurrent_dropout=0.2))\n",
        "  else:\n",
        "    # Intermediate layers return sequences\n",
        "    model.add(LSTM(num_lstm_units, droptout=0.2, recurrent_dropout=0.2, return_sequences=True))\n",
        "\n",
        "\n",
        "# Add Output layer\n",
        "model.add(Dense(1, activation='sigmoid'))"
      ],
      "metadata": {
        "id": "qobXnPzcW96I"
      },
      "execution_count": 3,
      "outputs": []
    },
    {
      "cell_type": "code",
      "source": [
        "#Compile the model\n",
        "model.compile(loss = 'binary_crossentropy', optimizer = 'adam', metrics=['accuracy'])"
      ],
      "metadata": {
        "id": "acWri_I9YrXt"
      },
      "execution_count": 4,
      "outputs": []
    },
    {
      "cell_type": "code",
      "source": [
        "# Print model summary\n",
        "model.summary()"
      ],
      "metadata": {
        "colab": {
          "base_uri": "https://localhost:8080/"
        },
        "id": "zuz7Vl3oZOKR",
        "outputId": "953323c8-6372-481f-a135-0fbdad539e37"
      },
      "execution_count": 5,
      "outputs": [
        {
          "output_type": "stream",
          "name": "stdout",
          "text": [
            "Model: \"sequential\"\n",
            "_________________________________________________________________\n",
            " Layer (type)                Output Shape              Param #   \n",
            "=================================================================\n",
            " embedding (Embedding)       (None, 100, 128)          2560000   \n",
            "                                                                 \n",
            " spatial_dropout1d (Spatial  (None, 100, 128)          0         \n",
            " Dropout1D)                                                      \n",
            "                                                                 \n",
            " lstm (LSTM)                 (None, 100, 64)           49408     \n",
            "                                                                 \n",
            " lstm_1 (LSTM)               (None, 64)                33024     \n",
            "                                                                 \n",
            " dense (Dense)               (None, 1)                 65        \n",
            "                                                                 \n",
            "=================================================================\n",
            "Total params: 2642497 (10.08 MB)\n",
            "Trainable params: 2642497 (10.08 MB)\n",
            "Non-trainable params: 0 (0.00 Byte)\n",
            "_________________________________________________________________\n"
          ]
        }
      ]
    },
    {
      "cell_type": "code",
      "source": [
        "history = model.fit(x_train, y_train, batch_size=128, epochs=5, validation_data=(x_test, y_test))"
      ],
      "metadata": {
        "colab": {
          "base_uri": "https://localhost:8080/"
        },
        "id": "3l0AD4ygZS3x",
        "outputId": "3a793b23-34e9-47a0-b41d-ead12566dc97"
      },
      "execution_count": 6,
      "outputs": [
        {
          "output_type": "stream",
          "name": "stdout",
          "text": [
            "Epoch 1/5\n",
            "196/196 [==============================] - 152s 737ms/step - loss: 0.4327 - accuracy: 0.7898 - val_loss: 0.3456 - val_accuracy: 0.8465\n",
            "Epoch 2/5\n",
            "196/196 [==============================] - 145s 741ms/step - loss: 0.2494 - accuracy: 0.9019 - val_loss: 0.3468 - val_accuracy: 0.8492\n",
            "Epoch 3/5\n",
            "196/196 [==============================] - 142s 725ms/step - loss: 0.1695 - accuracy: 0.9362 - val_loss: 0.3946 - val_accuracy: 0.8399\n",
            "Epoch 4/5\n",
            "196/196 [==============================] - 142s 723ms/step - loss: 0.1131 - accuracy: 0.9593 - val_loss: 0.5637 - val_accuracy: 0.8282\n",
            "Epoch 5/5\n",
            "196/196 [==============================] - 143s 728ms/step - loss: 0.0741 - accuracy: 0.9739 - val_loss: 0.6629 - val_accuracy: 0.8238\n"
          ]
        }
      ]
    },
    {
      "cell_type": "code",
      "source": [],
      "metadata": {
        "id": "L5FY1QEpZjvy"
      },
      "execution_count": null,
      "outputs": []
    }
  ]
}