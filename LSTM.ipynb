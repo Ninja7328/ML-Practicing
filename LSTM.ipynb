{
  "nbformat": 4,
  "nbformat_minor": 0,
  "metadata": {
    "colab": {
      "provenance": [],
      "authorship_tag": "ABX9TyPpYfhAoC18HD4aE8aPUzQO",
      "include_colab_link": true
    },
    "kernelspec": {
      "name": "python3",
      "display_name": "Python 3"
    },
    "language_info": {
      "name": "python"
    }
  },
  "cells": [
    {
      "cell_type": "markdown",
      "metadata": {
        "id": "view-in-github",
        "colab_type": "text"
      },
      "source": [
        "<a href=\"https://colab.research.google.com/github/Ninja7328/ML-Practicing/blob/main/LSTM.ipynb\" target=\"_parent\"><img src=\"https://colab.research.google.com/assets/colab-badge.svg\" alt=\"Open In Colab\"/></a>"
      ]
    },
    {
      "cell_type": "code",
      "execution_count": 1,
      "metadata": {
        "id": "5qAMex1-cg6z"
      },
      "outputs": [],
      "source": [
        "import numpy as np\n",
        "from sklearn.model_selection import train_test_split\n",
        "from tensorflow.keras.preprocessing.sequence import pad_sequences\n",
        "from tensorflow.keras.utils import to_categorical\n",
        "from tensorflow.keras.models import Sequential\n",
        "from tensorflow.keras.layers import LSTM, Dense, Embedding"
      ]
    },
    {
      "cell_type": "code",
      "source": [
        "# Generating synthetic data\n",
        "num_samples = 1000\n",
        "max_seq_length = 20\n",
        "vocab_size = 10000\n",
        "num_classes = 5\n",
        "embedding_dim = 50 #Example embedding dimension\n"
      ],
      "metadata": {
        "id": "PPwVKmdxc-QC"
      },
      "execution_count": 3,
      "outputs": []
    },
    {
      "cell_type": "code",
      "source": [
        "X = np.random.randint(1, vocab_size, size=(num_samples, max_seq_length))\n",
        "y = np.random.randint(0, num_classes, size=(num_samples,))\n",
        "\n",
        "# Pad sequences to have fixed length\n",
        "X_padded = pad_sequences(X, maxlen = max_seq_length)\n"
      ],
      "metadata": {
        "id": "74XeIFtvdQQP"
      },
      "execution_count": 4,
      "outputs": []
    },
    {
      "cell_type": "code",
      "source": [
        "#Convert labels to one-hot encoding\n",
        "y_one_hot = to_categorical(y, num_classes = num_classes)\n",
        "\n",
        "# Split data into train, validation, and test sets\n",
        "X_train, X_temp, y_train, y_temp = train_test_split(X_padded, y_one_hot, test_size=0.2, random_state=42)\n",
        "X_val, X_test, y_val, y_test = train_test_split(X_temp, y_temp, test_size = 0.5, random_state=42)"
      ],
      "metadata": {
        "id": "oKcjPMf7dtkC"
      },
      "execution_count": 6,
      "outputs": []
    },
    {
      "cell_type": "code",
      "source": [
        "# Define the model\n",
        "model = Sequential()\n",
        "model.add(Embedding(input_dim = vocab_size, output_dim = embedding_dim, input_length = max_seq_length))\n",
        "model.add(LSTM(units = 128, dropout=0.2, recurrent_dropout=0.2))\n",
        "model.add(Dense(num_classes, activation='softmax'))"
      ],
      "metadata": {
        "id": "Gn9p1I6Ne5l9"
      },
      "execution_count": 7,
      "outputs": []
    },
    {
      "cell_type": "code",
      "source": [
        "#Compile the model\n",
        "\n",
        "model.compile(optimizer = 'adam', loss='categorical_crossentropy', metrics=['accuracy'])\n",
        "\n",
        "#Train the model\n",
        "\n",
        "model.fit(X_train, y_train, batch_size = 64, epochs = 10 , validation_data=(X_val, y_val))"
      ],
      "metadata": {
        "colab": {
          "base_uri": "https://localhost:8080/"
        },
        "id": "BWuVQUZxfmax",
        "outputId": "6fccf26d-8788-4aed-e422-ac2e983befc1"
      },
      "execution_count": 8,
      "outputs": [
        {
          "output_type": "stream",
          "name": "stdout",
          "text": [
            "Epoch 1/10\n",
            "13/13 [==============================] - 5s 99ms/step - loss: 1.6096 - accuracy: 0.2037 - val_loss: 1.6062 - val_accuracy: 0.2700\n",
            "Epoch 2/10\n",
            "13/13 [==============================] - 1s 66ms/step - loss: 1.5915 - accuracy: 0.3800 - val_loss: 1.6031 - val_accuracy: 0.2300\n",
            "Epoch 3/10\n",
            "13/13 [==============================] - 1s 67ms/step - loss: 1.3804 - accuracy: 0.4863 - val_loss: 1.7980 - val_accuracy: 0.2100\n",
            "Epoch 4/10\n",
            "13/13 [==============================] - 1s 66ms/step - loss: 0.9353 - accuracy: 0.6212 - val_loss: 1.7914 - val_accuracy: 0.2500\n",
            "Epoch 5/10\n",
            "13/13 [==============================] - 1s 66ms/step - loss: 0.5021 - accuracy: 0.8350 - val_loss: 2.6382 - val_accuracy: 0.1700\n",
            "Epoch 6/10\n",
            "13/13 [==============================] - 1s 67ms/step - loss: 0.1163 - accuracy: 0.9712 - val_loss: 3.4788 - val_accuracy: 0.1600\n",
            "Epoch 7/10\n",
            "13/13 [==============================] - 1s 65ms/step - loss: 0.0429 - accuracy: 0.9887 - val_loss: 3.7231 - val_accuracy: 0.1800\n",
            "Epoch 8/10\n",
            "13/13 [==============================] - 1s 66ms/step - loss: 0.0186 - accuracy: 0.9950 - val_loss: 3.8710 - val_accuracy: 0.1500\n",
            "Epoch 9/10\n",
            "13/13 [==============================] - 1s 66ms/step - loss: 0.0108 - accuracy: 0.9975 - val_loss: 4.2288 - val_accuracy: 0.1800\n",
            "Epoch 10/10\n",
            "13/13 [==============================] - 1s 65ms/step - loss: 0.0152 - accuracy: 0.9962 - val_loss: 4.3787 - val_accuracy: 0.1700\n"
          ]
        },
        {
          "output_type": "execute_result",
          "data": {
            "text/plain": [
              "<keras.src.callbacks.History at 0x7a8b41acda20>"
            ]
          },
          "metadata": {},
          "execution_count": 8
        }
      ]
    },
    {
      "cell_type": "code",
      "source": [
        "import matplotlib.pyplot as plt\n",
        "\n",
        "plt.figure(figsize = (5,5))\n",
        "plt.title(\"training vs validation loss\")\n",
        "plt.plot(np.arange(50),history.history['loss'],label='training loss')\n",
        "plt.plot(np.arange(50),history.history['accuracy'],label='validation_loss')\n",
        "plt.legend()\n",
        "plt.xlabel(\"epochs\")\n",
        "plt.ylabel(\"loss\")"
      ],
      "metadata": {
        "id": "rX4LExCTgAso"
      },
      "execution_count": 9,
      "outputs": []
    },
    {
      "cell_type": "code",
      "source": [],
      "metadata": {
        "id": "IrBxsq8OhTrS"
      },
      "execution_count": null,
      "outputs": []
    }
  ]
}