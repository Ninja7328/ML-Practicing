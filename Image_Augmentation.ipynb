{
  "nbformat": 4,
  "nbformat_minor": 0,
  "metadata": {
    "colab": {
      "provenance": [],
      "authorship_tag": "ABX9TyNbQ2w7aBxkxnQQB94FOuQQ",
      "include_colab_link": true
    },
    "kernelspec": {
      "name": "python3",
      "display_name": "Python 3"
    },
    "language_info": {
      "name": "python"
    }
  },
  "cells": [
    {
      "cell_type": "markdown",
      "metadata": {
        "id": "view-in-github",
        "colab_type": "text"
      },
      "source": [
        "<a href=\"https://colab.research.google.com/github/Ninja7328/ML-Practicing/blob/main/Image_Augmentation.ipynb\" target=\"_parent\"><img src=\"https://colab.research.google.com/assets/colab-badge.svg\" alt=\"Open In Colab\"/></a>"
      ]
    },
    {
      "cell_type": "code",
      "execution_count": 12,
      "metadata": {
        "id": "COEh-QH_7Gec"
      },
      "outputs": [],
      "source": [
        "from tensorflow.keras.preprocessing.image import ImageDataGenerator, load_img, img_to_array"
      ]
    },
    {
      "cell_type": "code",
      "source": [
        "img1 = load_img(\"cat.jpg\")"
      ],
      "metadata": {
        "id": "RPoQFfZC70_8"
      },
      "execution_count": 13,
      "outputs": []
    },
    {
      "cell_type": "code",
      "source": [
        "type(img1)"
      ],
      "metadata": {
        "colab": {
          "base_uri": "https://localhost:8080/",
          "height": 121
        },
        "id": "zuIXEtlt8W-g",
        "outputId": "a93af0ff-e148-4769-90ab-146ab0745781"
      },
      "execution_count": 14,
      "outputs": [
        {
          "output_type": "execute_result",
          "data": {
            "text/plain": [
              "PIL.JpegImagePlugin.JpegImageFile"
            ],
            "text/html": [
              "<div style=\"max-width:800px; border: 1px solid var(--colab-border-color);\"><style>\n",
              "      pre.function-repr-contents {\n",
              "        overflow-x: auto;\n",
              "        padding: 8px 12px;\n",
              "        max-height: 500px;\n",
              "      }\n",
              "\n",
              "      pre.function-repr-contents.function-repr-contents-collapsed {\n",
              "        cursor: pointer;\n",
              "        max-height: 100px;\n",
              "      }\n",
              "    </style>\n",
              "    <pre style=\"white-space: initial; background:\n",
              "         var(--colab-secondary-surface-color); padding: 8px 12px;\n",
              "         border-bottom: 1px solid var(--colab-border-color);\"><b>PIL.JpegImagePlugin.JpegImageFile</b><br/>def __init__(fp=None, filename=None)</pre><pre class=\"function-repr-contents function-repr-contents-collapsed\" style=\"\"><a class=\"filepath\" style=\"display:none\" href=\"#\">/usr/local/lib/python3.10/dist-packages/PIL/JpegImagePlugin.py</a>Base class for image file format handlers.</pre>\n",
              "      <script>\n",
              "      if (google.colab.kernel.accessAllowed && google.colab.files && google.colab.files.view) {\n",
              "        for (const element of document.querySelectorAll('.filepath')) {\n",
              "          element.style.display = 'block'\n",
              "          element.onclick = (event) => {\n",
              "            event.preventDefault();\n",
              "            event.stopPropagation();\n",
              "            google.colab.files.view(element.textContent, 346);\n",
              "          };\n",
              "        }\n",
              "      }\n",
              "      for (const element of document.querySelectorAll('.function-repr-contents')) {\n",
              "        element.onclick = (event) => {\n",
              "          event.preventDefault();\n",
              "          event.stopPropagation();\n",
              "          element.classList.toggle('function-repr-contents-collapsed');\n",
              "        };\n",
              "      }\n",
              "      </script>\n",
              "      </div>"
            ]
          },
          "metadata": {},
          "execution_count": 14
        }
      ]
    },
    {
      "cell_type": "code",
      "source": [
        "img1 = img_to_array(img1)\n",
        "print(type(img1))"
      ],
      "metadata": {
        "colab": {
          "base_uri": "https://localhost:8080/"
        },
        "id": "06KYwjcv9bNI",
        "outputId": "dc716b66-9903-41a7-d8d1-0ee1f6824851"
      },
      "execution_count": 15,
      "outputs": [
        {
          "output_type": "stream",
          "name": "stdout",
          "text": [
            "<class 'numpy.ndarray'>\n"
          ]
        }
      ]
    },
    {
      "cell_type": "code",
      "source": [
        "img1.shape"
      ],
      "metadata": {
        "colab": {
          "base_uri": "https://localhost:8080/"
        },
        "id": "tFz86mJr9h4J",
        "outputId": "c8308a58-da0e-4468-a0f2-d92ba2f7c972"
      },
      "execution_count": 16,
      "outputs": [
        {
          "output_type": "execute_result",
          "data": {
            "text/plain": [
              "(531, 612, 3)"
            ]
          },
          "metadata": {},
          "execution_count": 16
        }
      ]
    },
    {
      "cell_type": "code",
      "source": [
        "img1 = img1.reshape((1,)+img1.shape)"
      ],
      "metadata": {
        "id": "6Ub3wCjY911K"
      },
      "execution_count": 17,
      "outputs": []
    },
    {
      "cell_type": "code",
      "source": [
        "img1.shape"
      ],
      "metadata": {
        "colab": {
          "base_uri": "https://localhost:8080/"
        },
        "id": "w_32pVTH-Mby",
        "outputId": "d6691191-ff24-4812-d5f6-f0a8b8f64c85"
      },
      "execution_count": 18,
      "outputs": [
        {
          "output_type": "execute_result",
          "data": {
            "text/plain": [
              "(1, 531, 612, 3)"
            ]
          },
          "metadata": {},
          "execution_count": 18
        }
      ]
    },
    {
      "cell_type": "code",
      "source": [
        "datagen = ImageDataGenerator(rotation_range=40, height_shift_range=0.2, width_shift_range=0.2, horizontal_flip=True, fill_mode='reflect')"
      ],
      "metadata": {
        "id": "vn1CS_va-Ox8"
      },
      "execution_count": 19,
      "outputs": []
    },
    {
      "cell_type": "code",
      "source": [
        "i = 0\n",
        "for batch in datagen.flow(img1,batch_size=1, save_to_dir=\"/content/Images\", save_prefix = 'cat', save_format = 'jpeg'):\n",
        "\n",
        "  i+=1\n",
        "  if(i>10):\n",
        "    break"
      ],
      "metadata": {
        "id": "MyPRYpMJ_utG"
      },
      "execution_count": 20,
      "outputs": []
    },
    {
      "cell_type": "code",
      "source": [
        "from tensorflow import keras\n",
        "from keras.layers import Conv2D, MaxPooling2D, Flatten, Dense\n",
        "from keras.datasets import mnist\n",
        "from keras.preprocessing.image import ImageDataGenerator\n",
        "import matplotlib.pyplot as plt\n",
        "\n",
        "(xtrain, ytrain), (xtest, ytest) = mnist.load_data()\n",
        "print(xtrain.shape, xtest.shape)"
      ],
      "metadata": {
        "id": "OvWsM0QLp5zF",
        "colab": {
          "base_uri": "https://localhost:8080/"
        },
        "outputId": "370cdc60-6e79-4e75-cd3a-2adbac53b2bb"
      },
      "execution_count": 21,
      "outputs": [
        {
          "output_type": "stream",
          "name": "stdout",
          "text": [
            "Downloading data from https://storage.googleapis.com/tensorflow/tf-keras-datasets/mnist.npz\n",
            "11490434/11490434 [==============================] - 0s 0us/step\n",
            "(60000, 28, 28) (10000, 28, 28)\n"
          ]
        }
      ]
    },
    {
      "cell_type": "code",
      "source": [
        "xtrain = xtrain.reshape(xtrain.shape+(1,))\n",
        "xtest = xtest.reshape(xtest.shape+(1,))"
      ],
      "metadata": {
        "id": "d4LiqBA_Fir9"
      },
      "execution_count": 22,
      "outputs": []
    },
    {
      "cell_type": "code",
      "source": [
        "xtrain = xtrain.astype('float32')/255\n",
        "xtest = xtest.astype('float32')/255"
      ],
      "metadata": {
        "id": "cx_fAtSAF6-_"
      },
      "execution_count": 23,
      "outputs": []
    },
    {
      "cell_type": "code",
      "source": [
        "from keras.utils import to_categorical\n",
        "ytrain = to_categorical(ytrain)\n",
        "ytest = to_categorical(ytest)"
      ],
      "metadata": {
        "id": "MVDE3wvkGZQD"
      },
      "execution_count": 24,
      "outputs": []
    },
    {
      "cell_type": "code",
      "source": [
        "print(ytrain[0])"
      ],
      "metadata": {
        "colab": {
          "base_uri": "https://localhost:8080/"
        },
        "id": "QjUwLnfZGowE",
        "outputId": "ad140f9d-ebcd-4eb8-c364-e228ebca1b53"
      },
      "execution_count": 25,
      "outputs": [
        {
          "output_type": "stream",
          "name": "stdout",
          "text": [
            "[0. 0. 0. 0. 0. 1. 0. 0. 0. 0.]\n"
          ]
        }
      ]
    },
    {
      "cell_type": "code",
      "source": [
        "datagen = ImageDataGenerator(rotation_range=20, height_shift_range=0.2, width_shift_range=0.2, fill_mode='nearest')\n",
        "\n",
        "datagen.fit(xtrain)"
      ],
      "metadata": {
        "id": "iDaJduI6Gq67"
      },
      "execution_count": 26,
      "outputs": []
    },
    {
      "cell_type": "code",
      "source": [
        "aug_img = datagen.flow(xtrain,ytrain, batch_size=32)"
      ],
      "metadata": {
        "id": "EtkxyjlDIyD8"
      },
      "execution_count": 28,
      "outputs": []
    },
    {
      "cell_type": "code",
      "source": [
        "for i in range(5):\n",
        "  img,_ = aug_img.next()\n",
        "  plt.figure(figsize=(8,8))\n",
        "  for j in range(32):\n",
        "    plt.subplot(1,32,j+1)\n",
        "    plt.imshow(img[j].reshape(28,28),cmap='gray')\n",
        "    plt.axis(\"off\")\n",
        "  plt.show()"
      ],
      "metadata": {
        "colab": {
          "base_uri": "https://localhost:8080/",
          "height": 197
        },
        "id": "4fBqsPaqI6Tv",
        "outputId": "2292673c-b1bc-4d9b-cb2c-08f45e9181ae"
      },
      "execution_count": 31,
      "outputs": [
        {
          "output_type": "display_data",
          "data": {
            "text/plain": [
              "<Figure size 800x800 with 32 Axes>"
            ],
            "image/png": "[encoded data removed]"
          },
          "metadata": {}
        },
        {
          "output_type": "display_data",
          "data": {
            "text/plain": [
              "<Figure size 800x800 with 32 Axes>"
            ],
            "image/png": "[encoded data removed]"
          },
          "metadata": {}
        },
        {
          "output_type": "display_data",
          "data": {
            "text/plain": [
              "<Figure size 800x800 with 32 Axes>"
            ],
            "image/png": "[encoded data removed]"
          },
          "metadata": {}
        },
        {
          "output_type": "display_data",
          "data": {
            "text/plain": [
              "<Figure size 800x800 with 32 Axes>"
            ],
            "image/png": "[encoded data removed]"
          },
          "metadata": {}
        },
        {
          "output_type": "display_data",
          "data": {
            "text/plain": [
              "<Figure size 800x800 with 32 Axes>"
            ],
            "image/png": "[encoded data removed]"
          },
          "metadata": {}
        }
      ]
    },
    {
      "cell_type": "code",
      "source": [
        "model = keras.Sequential([Conv2D(32,(3,3),activation='relu',input_shape=(28,28,1)),\n",
        "                          MaxPooling2D((2,2)),\n",
        "                          Conv2D(64,(3,3),activation='relu'),\n",
        "                          MaxPooling2D((2,2)),\n",
        "                          Flatten(),\n",
        "                          Dense(64,activation='relu'),\n",
        "                          Dense(10,activation='softmax')])"
      ],
      "metadata": {
        "id": "rZ6EU0JFJzCO"
      },
      "execution_count": 32,
      "outputs": []
    },
    {
      "cell_type": "code",
      "source": [
        "model.compile(optimizer='adam',loss= 'categorical_crossentropy', metrics=['accuracy'])"
      ],
      "metadata": {
        "id": "BDyvXkLBMEIn"
      },
      "execution_count": 34,
      "outputs": []
    },
    {
      "cell_type": "code",
      "source": [
        "model.summary()"
      ],
      "metadata": {
        "colab": {
          "base_uri": "https://localhost:8080/"
        },
        "id": "kHpmoeu_MylX",
        "outputId": "db8ee98d-4dff-480e-e8d4-28e7124105c8"
      },
      "execution_count": 35,
      "outputs": [
        {
          "output_type": "stream",
          "name": "stdout",
          "text": [
            "Model: \"sequential\"\n",
            "_________________________________________________________________\n",
            " Layer (type)                Output Shape              Param #   \n",
            "=================================================================\n",
            " conv2d (Conv2D)             (None, 26, 26, 32)        320       \n",
            "                                                                 \n",
            " max_pooling2d (MaxPooling2  (None, 13, 13, 32)        0         \n",
            " D)                                                              \n",
            "                                                                 \n",
            " conv2d_1 (Conv2D)           (None, 11, 11, 64)        18496     \n",
            "                                                                 \n",
            " max_pooling2d_1 (MaxPoolin  (None, 5, 5, 64)          0         \n",
            " g2D)                                                            \n",
            "                                                                 \n",
            " flatten (Flatten)           (None, 1600)              0         \n",
            "                                                                 \n",
            " dense (Dense)               (None, 64)                102464    \n",
            "                                                                 \n",
            " dense_1 (Dense)             (None, 10)                650       \n",
            "                                                                 \n",
            "=================================================================\n",
            "Total params: 121930 (476.29 KB)\n",
            "Trainable params: 121930 (476.29 KB)\n",
            "Non-trainable params: 0 (0.00 Byte)\n",
            "_________________________________________________________________\n"
          ]
        }
      ]
    },
    {
      "cell_type": "code",
      "source": [
        "model.fit(aug_img, epochs=5)"
      ],
      "metadata": {
        "colab": {
          "base_uri": "https://localhost:8080/"
        },
        "id": "Y5NwlGqhM_pG",
        "outputId": "cf895eb3-911c-4ad9-da38-38f2635fd8fa"
      },
      "execution_count": 36,
      "outputs": [
        {
          "output_type": "stream",
          "name": "stdout",
          "text": [
            "Epoch 1/5\n",
            "1875/1875 [==============================] - 69s 36ms/step - loss: 0.5154 - accuracy: 0.8323\n",
            "Epoch 2/5\n",
            "1875/1875 [==============================] - 67s 36ms/step - loss: 0.1945 - accuracy: 0.9395\n",
            "Epoch 3/5\n",
            "1875/1875 [==============================] - 67s 36ms/step - loss: 0.1438 - accuracy: 0.9554\n",
            "Epoch 4/5\n",
            "1875/1875 [==============================] - 65s 35ms/step - loss: 0.1169 - accuracy: 0.9635\n",
            "Epoch 5/5\n",
            "1875/1875 [==============================] - 67s 36ms/step - loss: 0.1013 - accuracy: 0.9680\n"
          ]
        },
        {
          "output_type": "execute_result",
          "data": {
            "text/plain": [
              "<keras.src.callbacks.History at 0x7f15448164d0>"
            ]
          },
          "metadata": {},
          "execution_count": 36
        }
      ]
    },
    {
      "cell_type": "code",
      "source": [],
      "metadata": {
        "id": "asodf2suNuFb"
      },
      "execution_count": null,
      "outputs": []
    }
  ]
}