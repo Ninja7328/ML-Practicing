{
  "nbformat": 4,
  "nbformat_minor": 0,
  "metadata": {
    "colab": {
      "provenance": [],
      "gpuType": "T4",
      "authorship_tag": "ABX9TyNqXB2kYMhMSgxrziEK0FcE",
      "include_colab_link": true
    },
    "kernelspec": {
      "name": "python3",
      "display_name": "Python 3"
    },
    "language_info": {
      "name": "python"
    },
    "accelerator": "GPU"
  },
  "cells": [
    {
      "cell_type": "markdown",
      "metadata": {
        "id": "view-in-github",
        "colab_type": "text"
      },
      "source": [
        "<a href=\"https://colab.research.google.com/github/Ninja7328/ML-Practicing/blob/main/RNN_on_Tesla_StockData.ipynb\" target=\"_parent\"><img src=\"https://colab.research.google.com/assets/colab-badge.svg\" alt=\"Open In Colab\"/></a>"
      ]
    },
    {
      "cell_type": "code",
      "execution_count": 1,
      "metadata": {
        "id": "javpoJKGKhx_"
      },
      "outputs": [],
      "source": [
        "import numpy as np\n",
        "import pandas as pd\n",
        "import matplotlib.pyplot as plt\n",
        "import warnings\n",
        "warnings.filterwarnings(\"ignore\")"
      ]
    },
    {
      "cell_type": "code",
      "source": [
        "data = pd.read_csv(\"/content/Tesla.csv  Tesla.csv.csv\")"
      ],
      "metadata": {
        "id": "xl6wr18BKxqH"
      },
      "execution_count": 3,
      "outputs": []
    },
    {
      "cell_type": "code",
      "source": [
        "length_data = len(data) #rows that data has\n",
        "split_ratio = 0.7 # 70% train and 30% validation\n",
        "length_train = round(length_data * split_ratio)\n",
        "length_validation = length_data - length_train\n",
        "print(\"Data length:\",length_data)\n",
        "print(\"Train Data:\",length_train)\n",
        "print(\"Validation Data:\",length_validation)\n"
      ],
      "metadata": {
        "colab": {
          "base_uri": "https://localhost:8080/"
        },
        "id": "CDGie1ptK6g0",
        "outputId": "f2b468cc-e762-4f57-f077-4302a6667f21"
      },
      "execution_count": 5,
      "outputs": [
        {
          "output_type": "stream",
          "name": "stdout",
          "text": [
            "Data length: 1692\n",
            "Train Data: 1184\n",
            "Validation Data: 508\n"
          ]
        }
      ]
    },
    {
      "cell_type": "code",
      "source": [
        "train_data = data[:length_train].iloc[:,:2]\n",
        "train_data['Date'] = pd.to_datetime(train_data['Date'])  #Converting to data time object\n",
        "#train_data\n",
        "\n",
        "validation_data = data[length_train:].iloc[:,:2]\n",
        "validation_data['Date'] = pd.to_datetime(validation_data['Date']) #Conveerting to date  time object\n",
        "validation_data"
      ],
      "metadata": {
        "colab": {
          "base_uri": "https://localhost:8080/",
          "height": 423
        },
        "id": "OrlSyUfcLxML",
        "outputId": "0996e4ef-0e39-4fa0-ff4f-c3f872fc5ae0"
      },
      "execution_count": 6,
      "outputs": [
        {
          "output_type": "execute_result",
          "data": {
            "text/plain": [
              "           Date        Open\n",
              "1184 2015-03-13  188.949997\n",
              "1185 2015-03-16  192.000000\n",
              "1186 2015-03-17  195.429993\n",
              "1187 2015-03-18  194.960007\n",
              "1188 2015-03-19  202.000000\n",
              "...         ...         ...\n",
              "1687 2017-03-13  244.820007\n",
              "1688 2017-03-14  246.110001\n",
              "1689 2017-03-15  257.000000\n",
              "1690 2017-03-16  262.399994\n",
              "1691 2017-03-17  264.000000\n",
              "\n",
              "[508 rows x 2 columns]"
            ],
            "text/html": [
              "\n",
              "  <div id=\"df-41620640-7d76-4be3-96ac-028855edcb33\" class=\"colab-df-container\">\n",
              "    <div>\n",
              "<style scoped>\n",
              "    .dataframe tbody tr th:only-of-type {\n",
              "        vertical-align: middle;\n",
              "    }\n",
              "\n",
              "    .dataframe tbody tr th {\n",
              "        vertical-align: top;\n",
              "    }\n",
              "\n",
              "    .dataframe thead th {\n",
              "        text-align: right;\n",
              "    }\n",
              "</style>\n",
              "<table border=\"1\" class=\"dataframe\">\n",
              "  <thead>\n",
              "    <tr style=\"text-align: right;\">\n",
              "      <th></th>\n",
              "      <th>Date</th>\n",
              "      <th>Open</th>\n",
              "    </tr>\n",
              "  </thead>\n",
              "  <tbody>\n",
              "    <tr>\n",
              "      <th>1184</th>\n",
              "      <td>2015-03-13</td>\n",
              "      <td>188.949997</td>\n",
              "    </tr>\n",
              "    <tr>\n",
              "      <th>1185</th>\n",
              "      <td>2015-03-16</td>\n",
              "      <td>192.000000</td>\n",
              "    </tr>\n",
              "    <tr>\n",
              "      <th>1186</th>\n",
              "      <td>2015-03-17</td>\n",
              "      <td>195.429993</td>\n",
              "    </tr>\n",
              "    <tr>\n",
              "      <th>1187</th>\n",
              "      <td>2015-03-18</td>\n",
              "      <td>194.960007</td>\n",
              "    </tr>\n",
              "    <tr>\n",
              "      <th>1188</th>\n",
              "      <td>2015-03-19</td>\n",
              "      <td>202.000000</td>\n",
              "    </tr>\n",
              "    <tr>\n",
              "      <th>...</th>\n",
              "      <td>...</td>\n",
              "      <td>...</td>\n",
              "    </tr>\n",
              "    <tr>\n",
              "      <th>1687</th>\n",
              "      <td>2017-03-13</td>\n",
              "      <td>244.820007</td>\n",
              "    </tr>\n",
              "    <tr>\n",
              "      <th>1688</th>\n",
              "      <td>2017-03-14</td>\n",
              "      <td>246.110001</td>\n",
              "    </tr>\n",
              "    <tr>\n",
              "      <th>1689</th>\n",
              "      <td>2017-03-15</td>\n",
              "      <td>257.000000</td>\n",
              "    </tr>\n",
              "    <tr>\n",
              "      <th>1690</th>\n",
              "      <td>2017-03-16</td>\n",
              "      <td>262.399994</td>\n",
              "    </tr>\n",
              "    <tr>\n",
              "      <th>1691</th>\n",
              "      <td>2017-03-17</td>\n",
              "      <td>264.000000</td>\n",
              "    </tr>\n",
              "  </tbody>\n",
              "</table>\n",
              "<p>508 rows × 2 columns</p>\n",
              "</div>\n",
              "    <div class=\"colab-df-buttons\">\n",
              "\n",
              "  <div class=\"colab-df-container\">\n",
              "    <button class=\"colab-df-convert\" onclick=\"convertToInteractive('df-41620640-7d76-4be3-96ac-028855edcb33')\"\n",
              "            title=\"Convert this dataframe to an interactive table.\"\n",
              "            style=\"display:none;\">\n",
              "\n",
              "  <svg xmlns=\"http://www.w3.org/2000/svg\" height=\"24px\" viewBox=\"0 -960 960 960\">\n",
              "    <path d=\"M120-120v-720h720v720H120Zm60-500h600v-160H180v160Zm220 220h160v-160H400v160Zm0 220h160v-160H400v160ZM180-400h160v-160H180v160Zm440 0h160v-160H620v160ZM180-180h160v-160H180v160Zm440 0h160v-160H620v160Z\"/>\n",
              "  </svg>\n",
              "    </button>\n",
              "\n",
              "  <style>\n",
              "    .colab-df-container {\n",
              "      display:flex;\n",
              "      gap: 12px;\n",
              "    }\n",
              "\n",
              "    .colab-df-convert {\n",
              "      background-color: #E8F0FE;\n",
              "      border: none;\n",
              "      border-radius: 50%;\n",
              "      cursor: pointer;\n",
              "      display: none;\n",
              "      fill: #1967D2;\n",
              "      height: 32px;\n",
              "      padding: 0 0 0 0;\n",
              "      width: 32px;\n",
              "    }\n",
              "\n",
              "    .colab-df-convert:hover {\n",
              "      background-color: #E2EBFA;\n",
              "      box-shadow: 0px 1px 2px rgba(60, 64, 67, 0.3), 0px 1px 3px 1px rgba(60, 64, 67, 0.15);\n",
              "      fill: #174EA6;\n",
              "    }\n",
              "\n",
              "    .colab-df-buttons div {\n",
              "      margin-bottom: 4px;\n",
              "    }\n",
              "\n",
              "    [theme=dark] .colab-df-convert {\n",
              "      background-color: #3B4455;\n",
              "      fill: #D2E3FC;\n",
              "    }\n",
              "\n",
              "    [theme=dark] .colab-df-convert:hover {\n",
              "      background-color: #434B5C;\n",
              "      box-shadow: 0px 1px 3px 1px rgba(0, 0, 0, 0.15);\n",
              "      filter: drop-shadow(0px 1px 2px rgba(0, 0, 0, 0.3));\n",
              "      fill: #FFFFFF;\n",
              "    }\n",
              "  </style>\n",
              "\n",
              "    <script>\n",
              "      const buttonEl =\n",
              "        document.querySelector('#df-41620640-7d76-4be3-96ac-028855edcb33 button.colab-df-convert');\n",
              "      buttonEl.style.display =\n",
              "        google.colab.kernel.accessAllowed ? 'block' : 'none';\n",
              "\n",
              "      async function convertToInteractive(key) {\n",
              "        const element = document.querySelector('#df-41620640-7d76-4be3-96ac-028855edcb33');\n",
              "        const dataTable =\n",
              "          await google.colab.kernel.invokeFunction('convertToInteractive',\n",
              "                                                    [key], {});\n",
              "        if (!dataTable) return;\n",
              "\n",
              "        const docLinkHtml = 'Like what you see? Visit the ' +\n",
              "          '<a target=\"_blank\" href=https://colab.research.google.com/notebooks/data_table.ipynb>data table notebook</a>'\n",
              "          + ' to learn more about interactive tables.';\n",
              "        element.innerHTML = '';\n",
              "        dataTable['output_type'] = 'display_data';\n",
              "        await google.colab.output.renderOutput(dataTable, element);\n",
              "        const docLink = document.createElement('div');\n",
              "        docLink.innerHTML = docLinkHtml;\n",
              "        element.appendChild(docLink);\n",
              "      }\n",
              "    </script>\n",
              "  </div>\n",
              "\n",
              "\n",
              "<div id=\"df-f41577eb-c6e0-472a-bfb4-5d43bf2c5a29\">\n",
              "  <button class=\"colab-df-quickchart\" onclick=\"quickchart('df-f41577eb-c6e0-472a-bfb4-5d43bf2c5a29')\"\n",
              "            title=\"Suggest charts\"\n",
              "            style=\"display:none;\">\n",
              "\n",
              "<svg xmlns=\"http://www.w3.org/2000/svg\" height=\"24px\"viewBox=\"0 0 24 24\"\n",
              "     width=\"24px\">\n",
              "    <g>\n",
              "        <path d=\"M19 3H5c-1.1 0-2 .9-2 2v14c0 1.1.9 2 2 2h14c1.1 0 2-.9 2-2V5c0-1.1-.9-2-2-2zM9 17H7v-7h2v7zm4 0h-2V7h2v10zm4 0h-2v-4h2v4z\"/>\n",
              "    </g>\n",
              "</svg>\n",
              "  </button>\n",
              "\n",
              "<style>\n",
              "  .colab-df-quickchart {\n",
              "      --bg-color: #E8F0FE;\n",
              "      --fill-color: #1967D2;\n",
              "      --hover-bg-color: #E2EBFA;\n",
              "      --hover-fill-color: #174EA6;\n",
              "      --disabled-fill-color: #AAA;\n",
              "      --disabled-bg-color: #DDD;\n",
              "  }\n",
              "\n",
              "  [theme=dark] .colab-df-quickchart {\n",
              "      --bg-color: #3B4455;\n",
              "      --fill-color: #D2E3FC;\n",
              "      --hover-bg-color: #434B5C;\n",
              "      --hover-fill-color: #FFFFFF;\n",
              "      --disabled-bg-color: #3B4455;\n",
              "      --disabled-fill-color: #666;\n",
              "  }\n",
              "\n",
              "  .colab-df-quickchart {\n",
              "    background-color: var(--bg-color);\n",
              "    border: none;\n",
              "    border-radius: 50%;\n",
              "    cursor: pointer;\n",
              "    display: none;\n",
              "    fill: var(--fill-color);\n",
              "    height: 32px;\n",
              "    padding: 0;\n",
              "    width: 32px;\n",
              "  }\n",
              "\n",
              "  .colab-df-quickchart:hover {\n",
              "    background-color: var(--hover-bg-color);\n",
              "    box-shadow: 0 1px 2px rgba(60, 64, 67, 0.3), 0 1px 3px 1px rgba(60, 64, 67, 0.15);\n",
              "    fill: var(--button-hover-fill-color);\n",
              "  }\n",
              "\n",
              "  .colab-df-quickchart-complete:disabled,\n",
              "  .colab-df-quickchart-complete:disabled:hover {\n",
              "    background-color: var(--disabled-bg-color);\n",
              "    fill: var(--disabled-fill-color);\n",
              "    box-shadow: none;\n",
              "  }\n",
              "\n",
              "  .colab-df-spinner {\n",
              "    border: 2px solid var(--fill-color);\n",
              "    border-color: transparent;\n",
              "    border-bottom-color: var(--fill-color);\n",
              "    animation:\n",
              "      spin 1s steps(1) infinite;\n",
              "  }\n",
              "\n",
              "  @keyframes spin {\n",
              "    0% {\n",
              "      border-color: transparent;\n",
              "      border-bottom-color: var(--fill-color);\n",
              "      border-left-color: var(--fill-color);\n",
              "    }\n",
              "    20% {\n",
              "      border-color: transparent;\n",
              "      border-left-color: var(--fill-color);\n",
              "      border-top-color: var(--fill-color);\n",
              "    }\n",
              "    30% {\n",
              "      border-color: transparent;\n",
              "      border-left-color: var(--fill-color);\n",
              "      border-top-color: var(--fill-color);\n",
              "      border-right-color: var(--fill-color);\n",
              "    }\n",
              "    40% {\n",
              "      border-color: transparent;\n",
              "      border-right-color: var(--fill-color);\n",
              "      border-top-color: var(--fill-color);\n",
              "    }\n",
              "    60% {\n",
              "      border-color: transparent;\n",
              "      border-right-color: var(--fill-color);\n",
              "    }\n",
              "    80% {\n",
              "      border-color: transparent;\n",
              "      border-right-color: var(--fill-color);\n",
              "      border-bottom-color: var(--fill-color);\n",
              "    }\n",
              "    90% {\n",
              "      border-color: transparent;\n",
              "      border-bottom-color: var(--fill-color);\n",
              "    }\n",
              "  }\n",
              "</style>\n",
              "\n",
              "  <script>\n",
              "    async function quickchart(key) {\n",
              "      const quickchartButtonEl =\n",
              "        document.querySelector('#' + key + ' button');\n",
              "      quickchartButtonEl.disabled = true;  // To prevent multiple clicks.\n",
              "      quickchartButtonEl.classList.add('colab-df-spinner');\n",
              "      try {\n",
              "        const charts = await google.colab.kernel.invokeFunction(\n",
              "            'suggestCharts', [key], {});\n",
              "      } catch (error) {\n",
              "        console.error('Error during call to suggestCharts:', error);\n",
              "      }\n",
              "      quickchartButtonEl.classList.remove('colab-df-spinner');\n",
              "      quickchartButtonEl.classList.add('colab-df-quickchart-complete');\n",
              "    }\n",
              "    (() => {\n",
              "      let quickchartButtonEl =\n",
              "        document.querySelector('#df-f41577eb-c6e0-472a-bfb4-5d43bf2c5a29 button');\n",
              "      quickchartButtonEl.style.display =\n",
              "        google.colab.kernel.accessAllowed ? 'block' : 'none';\n",
              "    })();\n",
              "  </script>\n",
              "</div>\n",
              "\n",
              "  <div id=\"id_01e37235-f7b4-4ff7-9885-14990ffd5eae\">\n",
              "    <style>\n",
              "      .colab-df-generate {\n",
              "        background-color: #E8F0FE;\n",
              "        border: none;\n",
              "        border-radius: 50%;\n",
              "        cursor: pointer;\n",
              "        display: none;\n",
              "        fill: #1967D2;\n",
              "        height: 32px;\n",
              "        padding: 0 0 0 0;\n",
              "        width: 32px;\n",
              "      }\n",
              "\n",
              "      .colab-df-generate:hover {\n",
              "        background-color: #E2EBFA;\n",
              "        box-shadow: 0px 1px 2px rgba(60, 64, 67, 0.3), 0px 1px 3px 1px rgba(60, 64, 67, 0.15);\n",
              "        fill: #174EA6;\n",
              "      }\n",
              "\n",
              "      [theme=dark] .colab-df-generate {\n",
              "        background-color: #3B4455;\n",
              "        fill: #D2E3FC;\n",
              "      }\n",
              "\n",
              "      [theme=dark] .colab-df-generate:hover {\n",
              "        background-color: #434B5C;\n",
              "        box-shadow: 0px 1px 3px 1px rgba(0, 0, 0, 0.15);\n",
              "        filter: drop-shadow(0px 1px 2px rgba(0, 0, 0, 0.3));\n",
              "        fill: #FFFFFF;\n",
              "      }\n",
              "    </style>\n",
              "    <button class=\"colab-df-generate\" onclick=\"generateWithVariable('validation_data')\"\n",
              "            title=\"Generate code using this dataframe.\"\n",
              "            style=\"display:none;\">\n",
              "\n",
              "  <svg xmlns=\"http://www.w3.org/2000/svg\" height=\"24px\"viewBox=\"0 0 24 24\"\n",
              "       width=\"24px\">\n",
              "    <path d=\"M7,19H8.4L18.45,9,17,7.55,7,17.6ZM5,21V16.75L18.45,3.32a2,2,0,0,1,2.83,0l1.4,1.43a1.91,1.91,0,0,1,.58,1.4,1.91,1.91,0,0,1-.58,1.4L9.25,21ZM18.45,9,17,7.55Zm-12,3A5.31,5.31,0,0,0,4.9,8.1,5.31,5.31,0,0,0,1,6.5,5.31,5.31,0,0,0,4.9,4.9,5.31,5.31,0,0,0,6.5,1,5.31,5.31,0,0,0,8.1,4.9,5.31,5.31,0,0,0,12,6.5,5.46,5.46,0,0,0,6.5,12Z\"/>\n",
              "  </svg>\n",
              "    </button>\n",
              "    <script>\n",
              "      (() => {\n",
              "      const buttonEl =\n",
              "        document.querySelector('#id_01e37235-f7b4-4ff7-9885-14990ffd5eae button.colab-df-generate');\n",
              "      buttonEl.style.display =\n",
              "        google.colab.kernel.accessAllowed ? 'block' : 'none';\n",
              "\n",
              "      buttonEl.onclick = () => {\n",
              "        google.colab.notebook.generateWithVariable('validation_data');\n",
              "      }\n",
              "      })();\n",
              "    </script>\n",
              "  </div>\n",
              "\n",
              "    </div>\n",
              "  </div>\n"
            ],
            "application/vnd.google.colaboratory.intrinsic+json": {
              "type": "dataframe",
              "variable_name": "validation_data",
              "summary": "{\n  \"name\": \"validation_data\",\n  \"rows\": 508,\n  \"fields\": [\n    {\n      \"column\": \"Date\",\n      \"properties\": {\n        \"dtype\": \"date\",\n        \"min\": \"2015-03-13 00:00:00\",\n        \"max\": \"2017-03-17 00:00:00\",\n        \"num_unique_values\": 508,\n        \"samples\": [\n          \"2015-07-07 00:00:00\",\n          \"2016-06-14 00:00:00\",\n          \"2017-02-14 00:00:00\"\n        ],\n        \"semantic_type\": \"\",\n        \"description\": \"\"\n      }\n    },\n    {\n      \"column\": \"Open\",\n      \"properties\": {\n        \"dtype\": \"number\",\n        \"std\": 25.904916572298305,\n        \"min\": 142.320007,\n        \"max\": 280.309998,\n        \"num_unique_values\": 475,\n        \"samples\": [\n          202.460007,\n          203.050003,\n          193.919998\n        ],\n        \"semantic_type\": \"\",\n        \"description\": \"\"\n      }\n    }\n  ]\n}"
            }
          },
          "metadata": {},
          "execution_count": 6
        }
      ]
    },
    {
      "cell_type": "code",
      "source": [
        "dataset_train = train_data.Open.values\n",
        "dataset_train.shape"
      ],
      "metadata": {
        "colab": {
          "base_uri": "https://localhost:8080/"
        },
        "id": "R4T0pPDVM_XU",
        "outputId": "da6078ba-0d24-4da8-8de7-c83fb9b206ac"
      },
      "execution_count": 8,
      "outputs": [
        {
          "output_type": "execute_result",
          "data": {
            "text/plain": [
              "(1184,)"
            ]
          },
          "metadata": {},
          "execution_count": 8
        }
      ]
    },
    {
      "cell_type": "code",
      "source": [
        "# Change 1d array to 2d array\n",
        "# Changing shape from (1692,) to (1692,1)\n",
        "\n",
        "dataset_train = np.reshape(dataset_train, (-1,1))\n",
        "dataset_train.shape"
      ],
      "metadata": {
        "colab": {
          "base_uri": "https://localhost:8080/"
        },
        "id": "OUviw0ZENJto",
        "outputId": "a9a41654-89e6-4118-df36-51858a233c94"
      },
      "execution_count": 10,
      "outputs": [
        {
          "output_type": "execute_result",
          "data": {
            "text/plain": [
              "(1184, 1)"
            ]
          },
          "metadata": {},
          "execution_count": 10
        }
      ]
    },
    {
      "cell_type": "code",
      "source": [
        "from sklearn.preprocessing import MinMaxScaler\n",
        "scaler = MinMaxScaler(feature_range=(0,1))\n",
        "\n",
        "#scaling dataset\n",
        "dataset_train_scaled = scaler.fit_transform(dataset_train)\n",
        "dataset_train_scaled.shape"
      ],
      "metadata": {
        "colab": {
          "base_uri": "https://localhost:8080/"
        },
        "id": "H1rqCeqINUTZ",
        "outputId": "ca9c8180-66ab-4c69-faf6-1aef99985d79"
      },
      "execution_count": 11,
      "outputs": [
        {
          "output_type": "execute_result",
          "data": {
            "text/plain": [
              "(1184, 1)"
            ]
          },
          "metadata": {},
          "execution_count": 11
        }
      ]
    },
    {
      "cell_type": "code",
      "source": [
        "plt.subplots(figsize = (15,6))\n",
        "plt.plot(dataset_train_scaled)\n",
        "plt.xlabel(\"Days as 1st, 2nd, 3rd..\")\n",
        "plt.ylabel(\"Open Price\")\n",
        "plt.show()"
      ],
      "metadata": {
        "colab": {
          "base_uri": "https://localhost:8080/",
          "height": 491
        },
        "id": "62RYhsARN7wZ",
        "outputId": "dd615dd7-49a3-4898-b601-70614ccdba13"
      },
      "execution_count": 12,
      "outputs": [
        {
          "output_type": "display_data",
          "data": {
            "text/plain": [
              "<Figure size 1500x600 with 1 Axes>"
            ],
            "image/png": "[encoded data removed]"
          },
          "metadata": {}
        }
      ]
    },
    {
      "cell_type": "code",
      "source": [
        "X_train = []\n",
        "y_train = []\n",
        "\n",
        "time_step = 50\n",
        "\n",
        "for i in range(time_step, length_train):\n",
        "  X_train.append(dataset_train_scaled[i-time_step:i,0])\n",
        "  y_train.append(dataset_train_scaled[i,0])\n",
        "\n",
        "#convert list to array\n",
        "X_train, y_train = np.array(X_train), np.array(y_train)"
      ],
      "metadata": {
        "id": "3KdStimZOYP2"
      },
      "execution_count": 13,
      "outputs": []
    },
    {
      "cell_type": "code",
      "source": [
        "# Reshape\n",
        "X_train = np.reshape(X_train, (X_train.shape[0], X_train.shape[1],1))\n",
        "y_train = np.reshape(y_train, (y_train.shape[0],1))"
      ],
      "metadata": {
        "id": "se9-ngjiPlS2"
      },
      "execution_count": 14,
      "outputs": []
    },
    {
      "cell_type": "code",
      "source": [
        "# Importing libraries\n",
        "\n",
        "from keras.models import Sequential\n",
        "from keras.layers import Dense\n",
        "from keras.layers import SimpleRNN\n",
        "from keras.layers import Dropout\n",
        "\n",
        "#initializing the RNN\n",
        "regressor = Sequential()\n",
        "# adding first RNN layer and dropout regulatization\n",
        "\n",
        "regressor.add(\n",
        "    SimpleRNN(units = 50,\n",
        "              activation = \"tanh\",\n",
        "              return_sequences= True,\n",
        "              input_shape = (X_train.shape[1],1))\n",
        ")\n",
        "regressor.add(\n",
        "    Dropout(0.2)\n",
        ")\n",
        "\n",
        "# adding second RNN layer and dropout regularization\n",
        "regressor.add(\n",
        "    SimpleRNN(units = 50,\n",
        "              activation = \"tanh\",\n",
        "              return_sequences = True)\n",
        ")\n",
        "\n",
        "regressor.add(\n",
        "    Dropout(0.2)\n",
        ")\n",
        "\n",
        "# adding third RNN layer and dropout regualrization\n",
        "regressor.add(\n",
        "    SimpleRNN(units = 50)\n",
        ")\n",
        "\n",
        "regressor.add(\n",
        "    Dropout(0.2)\n",
        ")\n",
        "\n",
        "# adding the output layer\n",
        "regressor.add(Dense(units = 1))"
      ],
      "metadata": {
        "id": "SZL4iepBP6g9"
      },
      "execution_count": 18,
      "outputs": []
    },
    {
      "cell_type": "code",
      "source": [
        "# compiling RNN\n",
        "\n",
        "regressor.compile(\n",
        "    optimizer = \"adam\",\n",
        "    loss = \"mean_squared_error\",\n",
        "    metrics = [\"accuracy\"]\n",
        ")"
      ],
      "metadata": {
        "id": "RpjfRhUxQ4yT"
      },
      "execution_count": 19,
      "outputs": []
    },
    {
      "cell_type": "code",
      "source": [
        "# fitting the RNN\n",
        "\n",
        "history = regressor.fit(X_train, y_train, epochs = 50 , batch_size = 32)"
      ],
      "metadata": {
        "colab": {
          "base_uri": "https://localhost:8080/"
        },
        "id": "tkHwnOwFS3zw",
        "outputId": "66e71169-443b-4344-a1f3-f22f30204a1b"
      },
      "execution_count": 20,
      "outputs": [
        {
          "output_type": "stream",
          "name": "stdout",
          "text": [
            "Epoch 1/50\n",
            "36/36 [==============================] - 14s 147ms/step - loss: 0.2569 - accuracy: 8.8183e-04\n",
            "Epoch 2/50\n",
            "36/36 [==============================] - 5s 138ms/step - loss: 0.0970 - accuracy: 0.0000e+00\n",
            "Epoch 3/50\n",
            "36/36 [==============================] - 5s 150ms/step - loss: 0.0594 - accuracy: 8.8183e-04\n",
            "Epoch 4/50\n",
            "36/36 [==============================] - 4s 112ms/step - loss: 0.0452 - accuracy: 8.8183e-04\n",
            "Epoch 5/50\n",
            "36/36 [==============================] - 4s 114ms/step - loss: 0.0298 - accuracy: 8.8183e-04\n",
            "Epoch 6/50\n",
            "36/36 [==============================] - 5s 151ms/step - loss: 0.0280 - accuracy: 8.8183e-04\n",
            "Epoch 7/50\n",
            "36/36 [==============================] - 4s 114ms/step - loss: 0.0273 - accuracy: 8.8183e-04\n",
            "Epoch 8/50\n",
            "36/36 [==============================] - 4s 123ms/step - loss: 0.0195 - accuracy: 8.8183e-04\n",
            "Epoch 9/50\n",
            "36/36 [==============================] - 5s 136ms/step - loss: 0.0184 - accuracy: 8.8183e-04\n",
            "Epoch 10/50\n",
            "36/36 [==============================] - 4s 115ms/step - loss: 0.0153 - accuracy: 8.8183e-04\n",
            "Epoch 11/50\n",
            "36/36 [==============================] - 5s 152ms/step - loss: 0.0123 - accuracy: 8.8183e-04\n",
            "Epoch 12/50\n",
            "36/36 [==============================] - 4s 115ms/step - loss: 0.0136 - accuracy: 8.8183e-04\n",
            "Epoch 13/50\n",
            "36/36 [==============================] - 4s 115ms/step - loss: 0.0134 - accuracy: 8.8183e-04\n",
            "Epoch 14/50\n",
            "36/36 [==============================] - 5s 150ms/step - loss: 0.0108 - accuracy: 8.8183e-04\n",
            "Epoch 15/50\n",
            "36/36 [==============================] - 4s 112ms/step - loss: 0.0104 - accuracy: 8.8183e-04\n",
            "Epoch 16/50\n",
            "36/36 [==============================] - 4s 117ms/step - loss: 0.0088 - accuracy: 8.8183e-04\n",
            "Epoch 17/50\n",
            "36/36 [==============================] - 5s 145ms/step - loss: 0.0086 - accuracy: 8.8183e-04\n",
            "Epoch 18/50\n",
            "36/36 [==============================] - 4s 114ms/step - loss: 0.0088 - accuracy: 8.8183e-04\n",
            "Epoch 19/50\n",
            "36/36 [==============================] - 5s 152ms/step - loss: 0.0083 - accuracy: 8.8183e-04\n",
            "Epoch 20/50\n",
            "36/36 [==============================] - 4s 115ms/step - loss: 0.0072 - accuracy: 8.8183e-04\n",
            "Epoch 21/50\n",
            "36/36 [==============================] - 4s 114ms/step - loss: 0.0068 - accuracy: 8.8183e-04\n",
            "Epoch 22/50\n",
            "36/36 [==============================] - 5s 151ms/step - loss: 0.0071 - accuracy: 8.8183e-04\n",
            "Epoch 23/50\n",
            "36/36 [==============================] - 4s 114ms/step - loss: 0.0067 - accuracy: 8.8183e-04\n",
            "Epoch 24/50\n",
            "36/36 [==============================] - 4s 115ms/step - loss: 0.0068 - accuracy: 8.8183e-04\n",
            "Epoch 25/50\n",
            "36/36 [==============================] - 6s 173ms/step - loss: 0.0056 - accuracy: 8.8183e-04\n",
            "Epoch 26/50\n",
            "36/36 [==============================] - 4s 115ms/step - loss: 0.0048 - accuracy: 8.8183e-04\n",
            "Epoch 27/50\n",
            "36/36 [==============================] - 5s 152ms/step - loss: 0.0047 - accuracy: 8.8183e-04\n",
            "Epoch 28/50\n",
            "36/36 [==============================] - 4s 116ms/step - loss: 0.0046 - accuracy: 8.8183e-04\n",
            "Epoch 29/50\n",
            "36/36 [==============================] - 4s 115ms/step - loss: 0.0048 - accuracy: 8.8183e-04\n",
            "Epoch 30/50\n",
            "36/36 [==============================] - 5s 151ms/step - loss: 0.0046 - accuracy: 8.8183e-04\n",
            "Epoch 31/50\n",
            "36/36 [==============================] - 4s 116ms/step - loss: 0.0050 - accuracy: 8.8183e-04\n",
            "Epoch 32/50\n",
            "36/36 [==============================] - 4s 123ms/step - loss: 0.0038 - accuracy: 8.8183e-04\n",
            "Epoch 33/50\n",
            "36/36 [==============================] - 5s 134ms/step - loss: 0.0041 - accuracy: 8.8183e-04\n",
            "Epoch 34/50\n",
            "36/36 [==============================] - 4s 116ms/step - loss: 0.0047 - accuracy: 8.8183e-04\n",
            "Epoch 35/50\n",
            "36/36 [==============================] - 5s 152ms/step - loss: 0.0040 - accuracy: 8.8183e-04\n",
            "Epoch 36/50\n",
            "36/36 [==============================] - 4s 113ms/step - loss: 0.0040 - accuracy: 8.8183e-04\n",
            "Epoch 37/50\n",
            "36/36 [==============================] - 4s 114ms/step - loss: 0.0037 - accuracy: 8.8183e-04\n",
            "Epoch 38/50\n",
            "36/36 [==============================] - 5s 148ms/step - loss: 0.0042 - accuracy: 8.8183e-04\n",
            "Epoch 39/50\n",
            "36/36 [==============================] - 4s 114ms/step - loss: 0.0040 - accuracy: 8.8183e-04\n",
            "Epoch 40/50\n",
            "36/36 [==============================] - 4s 114ms/step - loss: 0.0032 - accuracy: 8.8183e-04\n",
            "Epoch 41/50\n",
            "36/36 [==============================] - 5s 146ms/step - loss: 0.0035 - accuracy: 8.8183e-04\n",
            "Epoch 42/50\n",
            "36/36 [==============================] - 4s 114ms/step - loss: 0.0029 - accuracy: 8.8183e-04\n",
            "Epoch 43/50\n",
            "36/36 [==============================] - 5s 149ms/step - loss: 0.0029 - accuracy: 8.8183e-04\n",
            "Epoch 44/50\n",
            "36/36 [==============================] - 4s 113ms/step - loss: 0.0032 - accuracy: 8.8183e-04\n",
            "Epoch 45/50\n",
            "36/36 [==============================] - 4s 114ms/step - loss: 0.0032 - accuracy: 8.8183e-04\n",
            "Epoch 46/50\n",
            "36/36 [==============================] - 5s 146ms/step - loss: 0.0028 - accuracy: 8.8183e-04\n",
            "Epoch 47/50\n",
            "36/36 [==============================] - 4s 116ms/step - loss: 0.0028 - accuracy: 8.8183e-04\n",
            "Epoch 48/50\n",
            "36/36 [==============================] - 4s 114ms/step - loss: 0.0030 - accuracy: 8.8183e-04\n",
            "Epoch 49/50\n",
            "36/36 [==============================] - 5s 148ms/step - loss: 0.0025 - accuracy: 8.8183e-04\n",
            "Epoch 50/50\n",
            "36/36 [==============================] - 4s 113ms/step - loss: 0.0031 - accuracy: 8.8183e-04\n"
          ]
        }
      ]
    },
    {
      "cell_type": "code",
      "source": [
        "import matplotlib.pyplot as plt\n",
        "\n",
        "plt.figure(figsize = (5,5))\n",
        "plt.title(\"training vs validation loss\")\n",
        "plt.plot(np.arange(50),history.history['loss'],label='training loss')\n",
        "plt.plot(np.arange(50),history.history['accuracy'],label='validation_loss')\n",
        "plt.legend()\n",
        "plt.xlabel(\"epochs\")\n",
        "plt.ylabel(\"loss\")"
      ],
      "metadata": {
        "colab": {
          "base_uri": "https://localhost:8080/",
          "height": 504
        },
        "id": "graaUlEfTBa0",
        "outputId": "741c00e2-50bf-41b4-de1d-b39cf28e235f"
      },
      "execution_count": 22,
      "outputs": [
        {
          "output_type": "execute_result",
          "data": {
            "text/plain": [
              "Text(0, 0.5, 'loss')"
            ]
          },
          "metadata": {},
          "execution_count": 22
        },
        {
          "output_type": "display_data",
          "data": {
            "text/plain": [
              "<Figure size 500x500 with 1 Axes>"
            ],
            "image/png": "[encoded data removed]"
          },
          "metadata": {}
        }
      ]
    },
    {
      "cell_type": "code",
      "source": [],
      "metadata": {
        "id": "FHLDWeGLU4Qi"
      },
      "execution_count": null,
      "outputs": []
    }
  ]
}