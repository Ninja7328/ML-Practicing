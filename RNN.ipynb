{
  "nbformat": 4,
  "nbformat_minor": 0,
  "metadata": {
    "colab": {
      "provenance": [],
      "gpuType": "T4",
      "authorship_tag": "ABX9TyMTWkNTuD70UtpNJfjFZ26L",
      "include_colab_link": true
    },
    "kernelspec": {
      "name": "python3",
      "display_name": "Python 3"
    },
    "language_info": {
      "name": "python"
    },
    "accelerator": "GPU"
  },
  "cells": [
    {
      "cell_type": "markdown",
      "metadata": {
        "id": "view-in-github",
        "colab_type": "text"
      },
      "source": [
        "<a href=\"https://colab.research.google.com/github/Ninja7328/ML-Practicing/blob/main/RNN.ipynb\" target=\"_parent\"><img src=\"https://colab.research.google.com/assets/colab-badge.svg\" alt=\"Open In Colab\"/></a>"
      ]
    },
    {
      "cell_type": "code",
      "execution_count": 2,
      "metadata": {
        "id": "zOfk8-dGDwBY"
      },
      "outputs": [],
      "source": [
        "import numpy as np\n",
        "import tensorflow as tf\n",
        "from tensorflow import keras\n",
        "from keras.models import Sequential\n",
        "from keras.layers import SimpleRNN, Dense"
      ]
    },
    {
      "cell_type": "code",
      "source": [
        "np.random.seed(42)\n",
        "n_samples = 1000\n",
        "time_steps = 10\n",
        "n_features = 1\n",
        "\n",
        "X = np.random.randn(n_samples, time_steps, n_features)\n",
        "print(X.shape)"
      ],
      "metadata": {
        "colab": {
          "base_uri": "https://localhost:8080/"
        },
        "id": "j1-9DpXHSh0I",
        "outputId": "e082c05d-ec8c-4951-e1f3-b9fcd54623c2"
      },
      "execution_count": 3,
      "outputs": [
        {
          "output_type": "stream",
          "name": "stdout",
          "text": [
            "(1000, 10, 1)\n"
          ]
        }
      ]
    },
    {
      "cell_type": "code",
      "source": [
        "# sequence is 1000, features is 1 and the input is 10 to take input\n",
        "\n",
        "print(X[0,:,:])"
      ],
      "metadata": {
        "colab": {
          "base_uri": "https://localhost:8080/"
        },
        "id": "Z_Fd6CxsS6Vq",
        "outputId": "ecbc28d9-a95d-4b61-9f3d-e66c68684623"
      },
      "execution_count": 4,
      "outputs": [
        {
          "output_type": "stream",
          "name": "stdout",
          "text": [
            "[[ 0.49671415]\n",
            " [-0.1382643 ]\n",
            " [ 0.64768854]\n",
            " [ 1.52302986]\n",
            " [-0.23415337]\n",
            " [-0.23413696]\n",
            " [ 1.57921282]\n",
            " [ 0.76743473]\n",
            " [-0.46947439]\n",
            " [ 0.54256004]]\n"
          ]
        }
      ]
    },
    {
      "cell_type": "code",
      "source": [
        "Y = np.sum(X, axis=1)\n",
        "print(Y.shape)"
      ],
      "metadata": {
        "colab": {
          "base_uri": "https://localhost:8080/"
        },
        "id": "J1zH7AQWTCCa",
        "outputId": "57eb2e00-e59c-4312-8c90-e2528090259d"
      },
      "execution_count": 5,
      "outputs": [
        {
          "output_type": "stream",
          "name": "stdout",
          "text": [
            "(1000, 1)\n"
          ]
        }
      ]
    },
    {
      "cell_type": "code",
      "source": [
        "split = int(0.8*len(X))\n",
        "print(split)"
      ],
      "metadata": {
        "colab": {
          "base_uri": "https://localhost:8080/"
        },
        "id": "f45SUHStTtug",
        "outputId": "be519720-5bba-43d2-ea77-6e8097da68ee"
      },
      "execution_count": 6,
      "outputs": [
        {
          "output_type": "stream",
          "name": "stdout",
          "text": [
            "800\n"
          ]
        }
      ]
    },
    {
      "cell_type": "code",
      "source": [
        "xtrain,xtest = X[:split],X[split:]\n",
        "ytrain,ytest = Y[:split],Y[split:]"
      ],
      "metadata": {
        "id": "Sl9gnZ9WUMTM"
      },
      "execution_count": 7,
      "outputs": []
    },
    {
      "cell_type": "code",
      "source": [
        "model_RNN = Sequential([\n",
        "    SimpleRNN(50,activation='relu',input_shape=(time_steps,n_features)),\n",
        "    Dense(1)\n",
        "])"
      ],
      "metadata": {
        "id": "M2JcAKJoUZ1a"
      },
      "execution_count": 8,
      "outputs": []
    },
    {
      "cell_type": "code",
      "source": [
        "model_RNN.compile(optimizer='adam', loss='mse')"
      ],
      "metadata": {
        "id": "fEVTbo1UU5Ud"
      },
      "execution_count": 9,
      "outputs": []
    },
    {
      "cell_type": "code",
      "source": [
        "history = model_RNN.fit(xtrain,ytrain,epochs=50,validation_data=(xtest,ytest))"
      ],
      "metadata": {
        "colab": {
          "base_uri": "https://localhost:8080/"
        },
        "id": "yHQyThOZVY03",
        "outputId": "dc43e31a-2c29-4978-b6ff-2819965d2d87"
      },
      "execution_count": 12,
      "outputs": [
        {
          "output_type": "stream",
          "name": "stdout",
          "text": [
            "Epoch 1/50\n",
            "25/25 [==============================] - 0s 6ms/step - loss: 0.0160 - val_loss: 0.0077\n",
            "Epoch 2/50\n",
            "25/25 [==============================] - 0s 4ms/step - loss: 0.0104 - val_loss: 0.0232\n",
            "Epoch 3/50\n",
            "25/25 [==============================] - 0s 4ms/step - loss: 0.0057 - val_loss: 0.0054\n",
            "Epoch 4/50\n",
            "25/25 [==============================] - 0s 5ms/step - loss: 0.0041 - val_loss: 0.0073\n",
            "Epoch 5/50\n",
            "25/25 [==============================] - 0s 4ms/step - loss: 0.0036 - val_loss: 0.0079\n",
            "Epoch 6/50\n",
            "25/25 [==============================] - 0s 4ms/step - loss: 0.0050 - val_loss: 0.0132\n",
            "Epoch 7/50\n",
            "25/25 [==============================] - 0s 5ms/step - loss: 0.0041 - val_loss: 0.0053\n",
            "Epoch 8/50\n",
            "25/25 [==============================] - 0s 4ms/step - loss: 0.0039 - val_loss: 0.0099\n",
            "Epoch 9/50\n",
            "25/25 [==============================] - 0s 4ms/step - loss: 0.0046 - val_loss: 0.0060\n",
            "Epoch 10/50\n",
            "25/25 [==============================] - 0s 4ms/step - loss: 0.0032 - val_loss: 0.0044\n",
            "Epoch 11/50\n",
            "25/25 [==============================] - 0s 4ms/step - loss: 0.0040 - val_loss: 0.0051\n",
            "Epoch 12/50\n",
            "25/25 [==============================] - 0s 4ms/step - loss: 0.0033 - val_loss: 0.0041\n",
            "Epoch 13/50\n",
            "25/25 [==============================] - 0s 4ms/step - loss: 0.0044 - val_loss: 0.0062\n",
            "Epoch 14/50\n",
            "25/25 [==============================] - 0s 4ms/step - loss: 0.0043 - val_loss: 0.0047\n",
            "Epoch 15/50\n",
            "25/25 [==============================] - 0s 6ms/step - loss: 0.0032 - val_loss: 0.0041\n",
            "Epoch 16/50\n",
            "25/25 [==============================] - 0s 7ms/step - loss: 0.0029 - val_loss: 0.0043\n",
            "Epoch 17/50\n",
            "25/25 [==============================] - 0s 7ms/step - loss: 0.0032 - val_loss: 0.0037\n",
            "Epoch 18/50\n",
            "25/25 [==============================] - 0s 6ms/step - loss: 0.0045 - val_loss: 0.0052\n",
            "Epoch 19/50\n",
            "25/25 [==============================] - 0s 6ms/step - loss: 0.0059 - val_loss: 0.0138\n",
            "Epoch 20/50\n",
            "25/25 [==============================] - 0s 6ms/step - loss: 0.0060 - val_loss: 0.0107\n",
            "Epoch 21/50\n",
            "25/25 [==============================] - 0s 6ms/step - loss: 0.0078 - val_loss: 0.0058\n",
            "Epoch 22/50\n",
            "25/25 [==============================] - 0s 7ms/step - loss: 0.0035 - val_loss: 0.0048\n",
            "Epoch 23/50\n",
            "25/25 [==============================] - 0s 6ms/step - loss: 0.0049 - val_loss: 0.0051\n",
            "Epoch 24/50\n",
            "25/25 [==============================] - 0s 6ms/step - loss: 0.0036 - val_loss: 0.0035\n",
            "Epoch 25/50\n",
            "25/25 [==============================] - 0s 6ms/step - loss: 0.0026 - val_loss: 0.0048\n",
            "Epoch 26/50\n",
            "25/25 [==============================] - 0s 6ms/step - loss: 0.0174 - val_loss: 0.0271\n",
            "Epoch 27/50\n",
            "25/25 [==============================] - 0s 6ms/step - loss: 0.0243 - val_loss: 0.0168\n",
            "Epoch 28/50\n",
            "25/25 [==============================] - 0s 7ms/step - loss: 0.0144 - val_loss: 0.0110\n",
            "Epoch 29/50\n",
            "25/25 [==============================] - 0s 7ms/step - loss: 0.0090 - val_loss: 0.0054\n",
            "Epoch 30/50\n",
            "25/25 [==============================] - 0s 6ms/step - loss: 0.0039 - val_loss: 0.0046\n",
            "Epoch 31/50\n",
            "25/25 [==============================] - 0s 4ms/step - loss: 0.0026 - val_loss: 0.0045\n",
            "Epoch 32/50\n",
            "25/25 [==============================] - 0s 4ms/step - loss: 0.0024 - val_loss: 0.0036\n",
            "Epoch 33/50\n",
            "25/25 [==============================] - 0s 4ms/step - loss: 0.0021 - val_loss: 0.0034\n",
            "Epoch 34/50\n",
            "25/25 [==============================] - 0s 5ms/step - loss: 0.0034 - val_loss: 0.0038\n",
            "Epoch 35/50\n",
            "25/25 [==============================] - 0s 4ms/step - loss: 0.0023 - val_loss: 0.0038\n",
            "Epoch 36/50\n",
            "25/25 [==============================] - 0s 5ms/step - loss: 0.0031 - val_loss: 0.0032\n",
            "Epoch 37/50\n",
            "25/25 [==============================] - 0s 5ms/step - loss: 0.0028 - val_loss: 0.0053\n",
            "Epoch 38/50\n",
            "25/25 [==============================] - 0s 4ms/step - loss: 0.0032 - val_loss: 0.0056\n",
            "Epoch 39/50\n",
            "25/25 [==============================] - 0s 5ms/step - loss: 0.0024 - val_loss: 0.0030\n",
            "Epoch 40/50\n",
            "25/25 [==============================] - 0s 4ms/step - loss: 0.0017 - val_loss: 0.0037\n",
            "Epoch 41/50\n",
            "25/25 [==============================] - 0s 4ms/step - loss: 0.0035 - val_loss: 0.0074\n",
            "Epoch 42/50\n",
            "25/25 [==============================] - 0s 5ms/step - loss: 0.0042 - val_loss: 0.0063\n",
            "Epoch 43/50\n",
            "25/25 [==============================] - 0s 4ms/step - loss: 0.0026 - val_loss: 0.0081\n",
            "Epoch 44/50\n",
            "25/25 [==============================] - 0s 5ms/step - loss: 0.0023 - val_loss: 0.0033\n",
            "Epoch 45/50\n",
            "25/25 [==============================] - 0s 5ms/step - loss: 0.0021 - val_loss: 0.0036\n",
            "Epoch 46/50\n",
            "25/25 [==============================] - 0s 5ms/step - loss: 0.0026 - val_loss: 0.0032\n",
            "Epoch 47/50\n",
            "25/25 [==============================] - 0s 4ms/step - loss: 0.0017 - val_loss: 0.0033\n",
            "Epoch 48/50\n",
            "25/25 [==============================] - 0s 4ms/step - loss: 0.0016 - val_loss: 0.0031\n",
            "Epoch 49/50\n",
            "25/25 [==============================] - 0s 5ms/step - loss: 0.0014 - val_loss: 0.0035\n",
            "Epoch 50/50\n",
            "25/25 [==============================] - 0s 4ms/step - loss: 0.0018 - val_loss: 0.0057\n"
          ]
        }
      ]
    },
    {
      "cell_type": "code",
      "source": [
        "import matplotlib.pyplot as plt\n",
        "\n",
        "plt.figure(figsize = (5,5))\n",
        "plt.title(\"training vs validation loss\")\n",
        "plt.plot(np.arange(50),history.history['loss'],label='training loss')\n",
        "plt.plot(np.arange(50),history.history['val_loss'],label='validation_loss')\n",
        "plt.legend()\n",
        "plt.xlabel(\"epochs\")\n",
        "plt.ylabel(\"loss\")"
      ],
      "metadata": {
        "colab": {
          "base_uri": "https://localhost:8080/",
          "height": 504
        },
        "id": "_H3rBRRMVlHn",
        "outputId": "f03dfb5c-6a4c-47f8-b7d4-d5fea4c5900d"
      },
      "execution_count": 14,
      "outputs": [
        {
          "output_type": "execute_result",
          "data": {
            "text/plain": [
              "Text(0, 0.5, 'loss')"
            ]
          },
          "metadata": {},
          "execution_count": 14
        },
        {
          "output_type": "display_data",
          "data": {
            "text/plain": [
              "<Figure size 500x500 with 1 Axes>"
            ],
            "image/png": "[encoded data removed]"
          },
          "metadata": {}
        }
      ]
    },
    {
      "cell_type": "code",
      "source": [],
      "metadata": {
        "id": "Hbuo35VUWzRW"
      },
      "execution_count": null,
      "outputs": []
    }
  ]
}