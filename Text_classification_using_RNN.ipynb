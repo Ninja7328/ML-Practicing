{
  "nbformat": 4,
  "nbformat_minor": 0,
  "metadata": {
    "colab": {
      "provenance": [],
      "authorship_tag": "ABX9TyNysBYM3PRGNiMol9eTRjhV",
      "include_colab_link": true
    },
    "kernelspec": {
      "name": "python3",
      "display_name": "Python 3"
    },
    "language_info": {
      "name": "python"
    }
  },
  "cells": [
    {
      "cell_type": "markdown",
      "metadata": {
        "id": "view-in-github",
        "colab_type": "text"
      },
      "source": [
        "<a href=\"https://colab.research.google.com/github/Ninja7328/ML-Practicing/blob/main/Text_classification_using_RNN.ipynb\" target=\"_parent\"><img src=\"https://colab.research.google.com/assets/colab-badge.svg\" alt=\"Open In Colab\"/></a>"
      ]
    },
    {
      "cell_type": "code",
      "execution_count": 1,
      "metadata": {
        "id": "GM67AkwaJZND"
      },
      "outputs": [],
      "source": [
        "import tensorflow as tf\n",
        "from tensorflow.keras.datasets import imdb\n",
        "from tensorflow.keras.preprocessing.sequence import pad_sequences"
      ]
    },
    {
      "cell_type": "code",
      "source": [
        "# Load the IMDB dataset\n",
        "\n",
        "vocab_size = 10000\n",
        "max_length = 200\n",
        "(x_train, y_train), (x_test, y_test) = imdb.load_data(num_words = vocab_size)\n",
        "\n",
        "# Pad Sequences to ensure uniform length\n",
        "x_train = pad_sequences(x_train, maxlen=max_length)\n",
        "x_test = pad_sequences(x_test, maxlen=max_length)\n",
        "\n",
        "# Define the RNN model\n",
        "model = tf.keras.Sequential([\n",
        "    tf.keras.layers.Embedding(input_dim= vocab_size, output_dim = 64, input_length = max_length),\n",
        "    tf.keras.layers.SimpleRNN(units = 64),\n",
        "    tf.keras.layers.Dense(units = 1, activation='sigmoid')\n",
        "])"
      ],
      "metadata": {
        "colab": {
          "base_uri": "https://localhost:8080/"
        },
        "id": "I4A1cy3rJlJw",
        "outputId": "a54d1132-893e-449d-fe2c-7bb1f6873950"
      },
      "execution_count": 3,
      "outputs": [
        {
          "output_type": "stream",
          "name": "stdout",
          "text": [
            "Downloading data from https://storage.googleapis.com/tensorflow/tf-keras-datasets/imdb.npz\n",
            "17464789/17464789 [==============================] - 0s 0us/step\n"
          ]
        }
      ]
    },
    {
      "cell_type": "code",
      "source": [
        "# Compile the model\n",
        "\n",
        "model.compile(optimizer = 'adam', loss='binary_crossentropy', metrics=['accuracy'])"
      ],
      "metadata": {
        "id": "AkcrJdRbLIUF"
      },
      "execution_count": 4,
      "outputs": []
    },
    {
      "cell_type": "code",
      "source": [
        "# Train the model\n",
        "history = model.fit(x_train, y_train, epochs = 5, batch_size=128, validation_split=0.2)"
      ],
      "metadata": {
        "colab": {
          "base_uri": "https://localhost:8080/"
        },
        "id": "5bsAXpDjLYFw",
        "outputId": "b32782d4-c235-4ade-aa69-128c102f23ad"
      },
      "execution_count": 6,
      "outputs": [
        {
          "output_type": "stream",
          "name": "stdout",
          "text": [
            "Epoch 1/5\n",
            "157/157 [==============================] - 14s 87ms/step - loss: 0.0278 - accuracy: 0.9930 - val_loss: 0.6094 - val_accuracy: 0.8150\n",
            "Epoch 2/5\n",
            "157/157 [==============================] - 13s 85ms/step - loss: 0.0087 - accuracy: 0.9987 - val_loss: 0.6527 - val_accuracy: 0.8232\n",
            "Epoch 3/5\n",
            "157/157 [==============================] - 15s 98ms/step - loss: 0.0020 - accuracy: 1.0000 - val_loss: 0.7220 - val_accuracy: 0.8098\n",
            "Epoch 4/5\n",
            "157/157 [==============================] - 13s 84ms/step - loss: 0.0010 - accuracy: 1.0000 - val_loss: 0.7479 - val_accuracy: 0.8156\n",
            "Epoch 5/5\n",
            "157/157 [==============================] - 13s 82ms/step - loss: 6.8798e-04 - accuracy: 1.0000 - val_loss: 0.7686 - val_accuracy: 0.8182\n"
          ]
        }
      ]
    },
    {
      "cell_type": "code",
      "source": [
        "# Evaluate the model\n",
        "loss, accuracy = model.evaluate(x_test, y_test)\n",
        "print(\"Test Loss:\", loss)\n",
        "print(\"Test Accuracy:\", accuracy)"
      ],
      "metadata": {
        "colab": {
          "base_uri": "https://localhost:8080/"
        },
        "id": "-vYVQLYWMD6l",
        "outputId": "b21dd551-ef48-4bcc-b0b9-0c6fcc627367"
      },
      "execution_count": 7,
      "outputs": [
        {
          "output_type": "stream",
          "name": "stdout",
          "text": [
            "782/782 [==============================] - 9s 11ms/step - loss: 0.8034 - accuracy: 0.8141\n",
            "Test Loss: 0.8033966422080994\n",
            "Test Accuracy: 0.814079999923706\n"
          ]
        }
      ]
    },
    {
      "cell_type": "code",
      "source": [],
      "metadata": {
        "id": "ubrxrK0JNBoi"
      },
      "execution_count": null,
      "outputs": []
    }
  ]
}